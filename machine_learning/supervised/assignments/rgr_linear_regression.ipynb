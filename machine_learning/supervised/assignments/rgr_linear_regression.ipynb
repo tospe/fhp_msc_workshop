{
 "cells": [
  {
   "cell_type": "code",
   "execution_count": null,
   "metadata": {},
   "outputs": [],
   "source": [
    "import matplotlib.pyplot as plt\n",
    "import seaborn as sns\n",
    "from matplotlib.colors import ListedColormap\n",
    "from sklearn import linear_model, datasets\n",
    "from sklearn.model_selection import train_test_split\n",
    "from sklearn.metrics import mean_absolute_error, mean_squared_error\n",
    "\n",
    "import numpy as np\n",
    "from ipywidgets import interactive\n",
    "from IPython.display import display\n",
    "%matplotlib widget"
   ]
  },
  {
   "cell_type": "markdown",
   "metadata": {},
   "source": [
    "# Part 1 - Intuition\n",
    "\n",
    "We have three datasets:\n",
    " - Diabete dataset contains data from diabetic patients and contains certain features such as their bmi, age , blood pressure and glucose levels which are useful in predicting the diabetes disease progression in patients.\n",
    "- \"Perfect regression\" is the simpler case of regression\n",
    "- Noisy sin wave has a shape of sine wave with some noise\n",
    "\n",
    "This interactive demo lets you explore the Linear Regression algorithm. \n",
    "\n",
    "We can visualize the how the regressor fits the diferent datasets."
   ]
  },
  {
   "cell_type": "code",
   "execution_count": null,
   "metadata": {},
   "outputs": [],
   "source": [
    "def fit_linear_regressor(kernel, X, y):\n",
    "    if kernel == \"linear_model\":\n",
    "        regr = linear_model.LinearRegression()\n",
    "    elif kernel == \"lasso\":\n",
    "        regr = linear_model.Lasso()\n",
    "    else:\n",
    "        regr = linear_model.Ridge()\n",
    "    regr.fit(X, y)\n",
    "    return regr"
   ]
  },
  {
   "cell_type": "code",
   "execution_count": null,
   "metadata": {},
   "outputs": [],
   "source": [
    "# Real Dataset\n",
    "dataset = datasets.load_diabetes() # try with another dataset \n",
    "\n",
    "X = dataset.data[:, :2]\n",
    "y = dataset.target\n",
    "\n",
    "# Perfect regression\n",
    "X, y = datasets.make_regression(n_samples=100, n_features=1, random_state=0, noise=100.0, bias=200.0)\n",
    "\n",
    "# Sin wave \n",
    "rng = np.random.RandomState(1)\n",
    "X = np.sort(5 * rng.rand(80, 1), axis=0)\n",
    "y = np.sin(X).ravel()\n",
    "y[::5] += 3 * (0.5 - rng.rand(16))"
   ]
  },
  {
   "cell_type": "code",
   "execution_count": null,
   "metadata": {},
   "outputs": [],
   "source": [
    "plt.ioff()\n",
    "fig = plt.figure()\n",
    "fig.canvas.header_visible = False\n",
    "plt.scatter(X[:, 0], y, color=\"darkorange\",s=30, alpha=0.6)\n",
    "x = np.linspace(min(X), max(X), len(X))\n",
    "\n",
    "lines = plt.plot(x, y, label=\"Regression Tree\")\n",
    "\n",
    "\n",
    "def plot_boundary(kernel):\n",
    "    regr = fit_linear_regressor(kernel, X, y)\n",
    "    \n",
    "\n",
    "    y_preds = regr.predict(x)\n",
    "\n",
    "    lines[0].set_data(x, y_preds)\n",
    "    fig.canvas.draw()\n",
    "    fig.canvas.flush_events()\n",
    "\n",
    "    plt.legend()\n",
    "    display(fig)\n",
    "    return regr\n",
    "\n",
    "\n",
    "inter = interactive(\n",
    "    plot_boundary,\n",
    "    kernel = [\"linear_model\", \"lasso\", \"ridge\"]\n",
    ")\n",
    "\n",
    "display(inter)"
   ]
  },
  {
   "cell_type": "markdown",
   "metadata": {},
   "source": [
    "Using the interactive demo gain intuition on how this regressor fits the different types of data."
   ]
  },
  {
   "cell_type": "markdown",
   "metadata": {},
   "source": [
    "# Train and Test"
   ]
  },
  {
   "cell_type": "code",
   "execution_count": null,
   "metadata": {},
   "outputs": [],
   "source": [
    "len(dataset)"
   ]
  },
  {
   "cell_type": "code",
   "execution_count": null,
   "metadata": {},
   "outputs": [],
   "source": [
    "# 1. Split the dataset in training and testing. Use a test_size of 33%\n",
    "# Hint: https://scikit-learn.org/stable/modules/generated/sklearn.model_selection.train_test_split.html\n",
    "X_train, X_test, y_train, y_test = train_test_split(dataset.data, dataset.target, test_size=0.3, random_state=42)"
   ]
  },
  {
   "cell_type": "code",
   "execution_count": null,
   "metadata": {},
   "outputs": [],
   "source": [
    "# 2. Instantiate a Linear Regressor\n",
    "# Hint: https://scikit-learn.org/stable/modules/generated/sklearn.linear_model.LinearRegression.html#sklearn.linear_model.LinearRegression\n",
    "regr = linear_model.Ridge()\n",
    "regr.fit(X_train, y_train)"
   ]
  },
  {
   "cell_type": "code",
   "execution_count": null,
   "metadata": {},
   "outputs": [],
   "source": [
    "# 3. Use the regressor to predict the test set.\n",
    "# Hint: https://scikit-learn.org/stable/modules/generated/sklearn.linear_model.LinearRegression.html#sklearn.linear_model.LinearRegression.predict\n",
    "y_preds = regr.predict(X_test)"
   ]
  },
  {
   "cell_type": "code",
   "execution_count": null,
   "metadata": {},
   "outputs": [],
   "source": [
    "# 4. Evaluate the regressor error on the test set (also known as hold-out evaluation)\n",
    "# Hint: https://scikit-learn.org/stable/modules/generated/sklearn.metrics.mean_squared_error.html?highlight=rmse\n",
    "\n",
    "mean_squared_error(y_test, y_preds), mean_squared_error(y_test, y_preds, squared=False), mean_absolute_error(y_test, y_preds)"
   ]
  },
  {
   "cell_type": "markdown",
   "metadata": {},
   "source": [
    "## Extra - Compare the predictions"
   ]
  },
  {
   "cell_type": "code",
   "execution_count": null,
   "metadata": {},
   "outputs": [],
   "source": [
    "def evaluate(y_test, prediction, ax=None):\n",
    "    min_value = min(np.min(y_test), np.min(prediction))*0.9\n",
    "    max_value = max(np.max(y_test), np.max(prediction))*1.1\n",
    "\n",
    "    if ax is None:\n",
    "        fig, ax = plt.subplots(figsize=(5, 5))\n",
    "    ax.plot([min_value,max_value], [min_value,max_value], color='grey')\n",
    "    ax.scatter(prediction, y_test, facecolor='steelblue', s=30, alpha=0.6)\n",
    "    ax.set_xlabel('Predicted', fontsize=12)\n",
    "    ax.set_ylabel('Actual', fontsize=12)\n",
    "    ax.set_xlim([min_value,max_value])\n",
    "    ax.set_ylim([min_value,max_value])\n",
    "    plt.show()\n",
    "\n",
    "evaluate(y_test, y_preds)"
   ]
  },
  {
   "cell_type": "code",
   "execution_count": null,
   "metadata": {},
   "outputs": [],
   "source": [
    "len(y_test), len(y_preds)"
   ]
  },
  {
   "cell_type": "code",
   "execution_count": null,
   "metadata": {},
   "outputs": [],
   "source": []
  }
 ],
 "metadata": {
  "language_info": {
   "codemirror_mode": {
    "name": "ipython",
    "version": 3
   },
   "file_extension": ".py",
   "mimetype": "text/x-python",
   "name": "python",
   "nbconvert_exporter": "python",
   "pygments_lexer": "ipython3",
   "version": "3.9.5"
  },
  "vscode": {
   "interpreter": {
    "hash": "8e3d11f8b9dcc9fa310517ec0863d4be19ca23b2c5fcfb5840bd74893bedb3e3"
   }
  }
 },
 "nbformat": 4,
 "nbformat_minor": 2
}
