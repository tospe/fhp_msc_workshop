{
 "cells": [
  {
   "cell_type": "markdown",
   "metadata": {},
   "source": [
    "### Imports required libraries"
   ]
  },
  {
   "cell_type": "code",
   "execution_count": null,
   "metadata": {},
   "outputs": [],
   "source": [
    "import matplotlib.pyplot as plt\n",
    "import numpy\n",
    "import torch\n",
    "import torch.nn as nn\n",
    "import torch.nn.functional as F\n",
    "import torch.optim as optim\n",
    "from torchvision import datasets, transforms\n",
    "\n",
    "\n",
    "# function to count number of parameters\n",
    "def get_n_params(model):\n",
    "    np = 0\n",
    "    for p in list(model.parameters()):\n",
    "        np += p.nelement()\n",
    "    return np\n",
    "\n",
    "\n",
    "plt.style.use([\"dark_background\", \"bmh\"])\n",
    "plt.rc(\"axes\", facecolor=\"k\")\n",
    "plt.rc(\"figure\", facecolor=\"k\")\n",
    "plt.rc(\"figure\", figsize=(10, 10), dpi=100)"
   ]
  },
  {
   "cell_type": "code",
   "execution_count": null,
   "metadata": {},
   "outputs": [],
   "source": [
    "# Check if we have gpu\n",
    "device = torch.device(\"cuda:0\" if torch.cuda.is_available() else \"cpu\")\n",
    "device"
   ]
  },
  {
   "cell_type": "code",
   "execution_count": null,
   "metadata": {},
   "outputs": [],
   "source": [
    "model_fnn.parameters()"
   ]
  },
  {
   "cell_type": "markdown",
   "metadata": {},
   "source": [
    "### The Dataset"
   ]
  },
  {
   "cell_type": "code",
   "execution_count": null,
   "metadata": {},
   "outputs": [],
   "source": [
    "data_dir = \"../../data\""
   ]
  },
  {
   "cell_type": "code",
   "execution_count": null,
   "metadata": {},
   "outputs": [],
   "source": [
    "input_size = 28 * 28  # images are 28x28 pixels\n",
    "output_size = 10  # there are 10 classes\n",
    "\n",
    "train_loader = torch.utils.data.DataLoader(\n",
    "    datasets.MNIST(\n",
    "        data_dir,\n",
    "        train=True,\n",
    "        download=True,\n",
    "        transform=transforms.Compose(\n",
    "            [\n",
    "                transforms.ToTensor(),\n",
    "                transforms.Normalize(\n",
    "                    (0.1307,), (0.3081,)\n",
    "                ),  # mean and std of the MNIST training set\n",
    "            ]\n",
    "        ),\n",
    "    ),\n",
    "    batch_size=64,\n",
    "    shuffle=True,\n",
    ")\n",
    "\n",
    "\n",
    "test_loader = torch.utils.data.DataLoader(\n",
    "    datasets.MNIST(\n",
    "        data_dir,\n",
    "        train=False,\n",
    "        transform=transforms.Compose(\n",
    "            [transforms.ToTensor(), transforms.Normalize((0.1307,), (0.3081,))]\n",
    "        ),\n",
    "    ),\n",
    "    batch_size=1000,\n",
    "    shuffle=True,\n",
    ")"
   ]
  },
  {
   "cell_type": "code",
   "execution_count": null,
   "metadata": {},
   "outputs": [],
   "source": [
    "plt.figure(figsize=(16, 6))\n",
    "for i in range(10):\n",
    "    plt.subplot(2, 5, i + 1)\n",
    "    image, _ = train_loader.dataset.__getitem__(i)\n",
    "    plt.imshow(image.squeeze().numpy())\n",
    "    plt.axis(\"off\");"
   ]
  },
  {
   "cell_type": "markdown",
   "metadata": {},
   "source": [
    "### Modelling\n",
    "\n",
    "To compare the differences we are going to create two models:\n",
    "- fully connected model only using linear layers\n",
    "- CNN model which has convolutions and max pooling \n",
    "\n",
    "Cool animations:\n",
    "- https://github.com/vdumoulin/conv_arithmetic\n",
    "- https://www.reddit.com/r/manim/comments/ge19xj/a_simple_animation_to_show_how_max_pooling_works/"
   ]
  },
  {
   "cell_type": "code",
   "execution_count": null,
   "metadata": {},
   "outputs": [],
   "source": [
    "class FC2Layer(nn.Module):\n",
    "    def __init__(self, input_size, n_hidden, output_size):\n",
    "        super().__init__()\n",
    "        self.input_size = input_size\n",
    "\n",
    "        self.network = nn.Sequential(\n",
    "            nn.Linear(input_size, n_hidden),\n",
    "            nn.ReLU(),\n",
    "            nn.Linear(n_hidden, n_hidden),\n",
    "            nn.ReLU(),\n",
    "            nn.Linear(n_hidden, output_size),\n",
    "            nn.LogSoftmax(dim=1),\n",
    "        )\n",
    "\n",
    "    def forward(self, x):\n",
    "        x = x.view(-1, self.input_size)\n",
    "        return self.network(x)\n",
    "\n",
    "\n",
    "class CNN(nn.Module):\n",
    "    def __init__(self, input_size, n_feature, output_size):\n",
    "        super().__init__()\n",
    "        self.n_feature = n_feature\n",
    "        self.conv1 = nn.Conv2d(in_channels=1, out_channels=n_feature, kernel_size=5)\n",
    "        self.conv2 = nn.Conv2d(n_feature, n_feature, kernel_size=5)\n",
    "        self.fc1 = nn.Linear(n_feature * 4 * 4, 50)\n",
    "        self.fc2 = nn.Linear(50, 10)\n",
    "\n",
    "    def forward(self, x, verbose=False):\n",
    "        x = self.conv1(x)\n",
    "        x = F.relu(x)\n",
    "        x = F.max_pool2d(x, kernel_size=2)\n",
    "        x = self.conv2(x)\n",
    "        x = F.relu(x)\n",
    "        x = F.max_pool2d(x, kernel_size=2)\n",
    "        x = x.view(-1, self.n_feature * 4 * 4)\n",
    "        x = self.fc1(x)\n",
    "        x = F.relu(x)\n",
    "        x = self.fc2(x)\n",
    "        x = F.log_softmax(x, dim=1)\n",
    "        return x"
   ]
  },
  {
   "cell_type": "markdown",
   "metadata": {},
   "source": [
    "### Train and Test"
   ]
  },
  {
   "cell_type": "markdown",
   "metadata": {},
   "source": [
    "We are using pytorch as neural networks framework. Before training we need to set the data, model, loss function and optimizer. \n",
    "\n",
    "Afterwards, there are 5 steps to train a neural network for each epoch:\n",
    "1. get the data --> every data instance should be a pair of input + label/target\n",
    "2. zero the gradients for every batch --> pytorch accumulates the gradients on subsequent backward passes [^1]\n",
    "3. make predictions --> pass input data to the model and get the predictions\n",
    "4. comput loss and gradientes --> with the newly predictions we will compute the loss and comput the gradients\n",
    "5. adjusts the learning weights --> after the computation of the weights we need to adjust the weights\n",
    "\n",
    "[Training Pytorch documentation](https://pytorch.org/tutorials/beginner/introyt/trainingyt.html)\n",
    "\n",
    "[^1]: https://stackoverflow.com/questions/48001598/why-do-we-need-to-call-zero-grad-in-pytorch "
   ]
  },
  {
   "cell_type": "code",
   "execution_count": null,
   "metadata": {},
   "outputs": [],
   "source": [
    "def train_one_epoch(model, optimizer, loss_fn):\n",
    "    for batch_idx, (data, target) in enumerate(train_loader):\n",
    "        # get data\n",
    "        data, target = data.to(device), target.to(device)\n",
    "        # zero the gradients\n",
    "        optimizer.zero_grad()\n",
    "        # get predictions\n",
    "        output = model(data)\n",
    "        # compute the loss and it gradients\n",
    "        loss = loss_fn(output, target)\n",
    "        loss.backward()\n",
    "        # adjust the weights\n",
    "        optimizer.step()\n",
    "\n",
    "        if batch_idx % 100 == 0:\n",
    "            print(\n",
    "                \"Train Epoch: {} [{}/{} ({:.0f}%)]\\tLoss: {:.6f}\".format(\n",
    "                    epoch,\n",
    "                    batch_idx * len(data),\n",
    "                    len(train_loader.dataset),\n",
    "                    100.0 * batch_idx / len(train_loader),\n",
    "                    loss.item(),\n",
    "                )\n",
    "            )"
   ]
  },
  {
   "cell_type": "code",
   "execution_count": null,
   "metadata": {},
   "outputs": [],
   "source": [
    "accuracy_list = []"
   ]
  },
  {
   "cell_type": "code",
   "execution_count": null,
   "metadata": {},
   "outputs": [],
   "source": [
    "def test(model):\n",
    "    model.eval()\n",
    "    test_loss = 0\n",
    "    correct = 0\n",
    "    for data, target in test_loader:\n",
    "        # send to device\n",
    "        data, target = data.to(device), target.to(device)\n",
    "\n",
    "        # permute pixels\n",
    "        output = model(data)\n",
    "\n",
    "        test_loss += F.nll_loss(\n",
    "            output, target, reduction=\"sum\"\n",
    "        ).item()  # sum up batch loss\n",
    "        pred = output.data.max(1, keepdim=True)[\n",
    "            1\n",
    "        ]  # get the index of the max log-probability\n",
    "        correct += pred.eq(target.data.view_as(pred)).cpu().sum().item()\n",
    "\n",
    "    test_loss /= len(test_loader.dataset)\n",
    "    accuracy = 100.0 * correct / len(test_loader.dataset)\n",
    "    accuracy_list.append(accuracy)\n",
    "    print(\n",
    "        \"\\nTest set: Average loss: {:.4f}, Accuracy: {}/{} ({:.0f}%)\\n\".format(\n",
    "            test_loss, correct, len(test_loader.dataset), accuracy\n",
    "        )\n",
    "    )"
   ]
  },
  {
   "cell_type": "code",
   "execution_count": null,
   "metadata": {},
   "outputs": [],
   "source": [
    "model_fnn.parameters"
   ]
  },
  {
   "cell_type": "markdown",
   "metadata": {},
   "source": [
    "#### Train/Test Fully connect"
   ]
  },
  {
   "cell_type": "code",
   "execution_count": null,
   "metadata": {},
   "outputs": [],
   "source": [
    "n_hidden = 8  # number of hidden units\n",
    "\n",
    "model_fnn = FC2Layer(input_size, n_hidden, output_size)  # define the model\n",
    "model_fnn.to(device)  # move it to the correct device\n",
    "\n",
    "loss_fn = torch.nn.NLLLoss()  # select the loss according to our problem\n",
    "optimizer = optim.SGD(model_fnn.parameters(), lr=0.01, momentum=0.5)\n",
    "\n",
    "print(f\"Number of parameters: {get_n_params(model_fnn)}\")\n",
    "\n",
    "for epoch in range(0, 1):\n",
    "    train_one_epoch(model_fnn, optimizer, loss_fn)\n",
    "\n",
    "test(model_fnn)"
   ]
  },
  {
   "cell_type": "markdown",
   "metadata": {},
   "source": [
    "#### Train/Test CNN"
   ]
  },
  {
   "cell_type": "code",
   "execution_count": null,
   "metadata": {},
   "outputs": [],
   "source": [
    "# Training settings\n",
    "n_features = 6  # number of feature maps\n",
    "\n",
    "model_cnn = CNN(input_size, n_features, output_size)\n",
    "model_cnn.to(device)\n",
    "\n",
    "loss_fn = torch.nn.NLLLoss()  # select the loss according to our problem\n",
    "\n",
    "optimizer = optim.SGD(\n",
    "    model_cnn.parameters(), lr=0.01, momentum=0.5\n",
    ")  # select the optimizer\n",
    "print(f\"Number of parameters: {get_n_params(model_cnn)}\")\n",
    "\n",
    "for epoch in range(0, 1):\n",
    "    train_one_epoch(model_cnn, optimizer, loss_fn)\n",
    "\n",
    "test(model_cnn)"
   ]
  },
  {
   "cell_type": "markdown",
   "metadata": {},
   "source": [
    "#### Some experiments\n",
    "Lets try to understand why cnn is better than fc"
   ]
  },
  {
   "cell_type": "code",
   "execution_count": null,
   "metadata": {},
   "outputs": [],
   "source": [
    "perm = torch.randperm(784)\n",
    "plt.figure(figsize=(16, 12))\n",
    "for i in range(10):\n",
    "    image, _ = train_loader.dataset.__getitem__(i)\n",
    "    # permute pixels\n",
    "    image_perm = image.view(-1, 28 * 28).clone()\n",
    "    image_perm = image_perm[:, perm]\n",
    "    image_perm = image_perm.view(-1, 1, 28, 28)\n",
    "    plt.subplot(4, 5, i + 1)\n",
    "    plt.imshow(image.squeeze().numpy())\n",
    "    plt.axis(\"off\")\n",
    "    plt.subplot(4, 5, i + 11)\n",
    "    plt.imshow(image_perm.squeeze().numpy())\n",
    "    plt.axis(\"off\")"
   ]
  },
  {
   "cell_type": "code",
   "execution_count": null,
   "metadata": {},
   "outputs": [],
   "source": [
    "# train the model with permutation\n",
    "perm = torch.randperm(784)\n",
    "\n",
    "\n",
    "def train_one_epoch_perm(model, optimizer, loss_fn):\n",
    "    for batch_idx, (data, target) in enumerate(train_loader):\n",
    "        # get data\n",
    "        data, target = data.to(device), target.to(device)\n",
    "        data = data.view(-1, 28 * 28)\n",
    "        data = data[:, perm]\n",
    "        data = data.view(-1, 1, 28, 28)\n",
    "\n",
    "        # zero the gradients\n",
    "        optimizer.zero_grad()\n",
    "        # get predictions\n",
    "        output = model(data)\n",
    "        # compute the loss and it gradients\n",
    "        loss = loss_fn(output, target)\n",
    "        loss.backward()\n",
    "        # adjust the weights\n",
    "        optimizer.step()\n",
    "\n",
    "        if batch_idx % 100 == 0:\n",
    "            print(\n",
    "                \"Train Epoch: {} [{}/{} ({:.0f}%)]\\tLoss: {:.6f}\".format(\n",
    "                    epoch,\n",
    "                    batch_idx * len(data),\n",
    "                    len(train_loader.dataset),\n",
    "                    100.0 * batch_idx / len(train_loader),\n",
    "                    loss.item(),\n",
    "                )\n",
    "            )\n",
    "\n",
    "\n",
    "# test the model with permutation\n",
    "def test_perm(model):\n",
    "    model.eval()\n",
    "    test_loss = 0\n",
    "    correct = 0\n",
    "    for data, target in test_loader:\n",
    "        # send to device\n",
    "        data, target = data.to(device), target.to(device)\n",
    "\n",
    "        # permute pixels\n",
    "        data = data.view(-1, 28 * 28)\n",
    "        data = data[:, perm]\n",
    "        data = data.view(-1, 1, 28, 28)\n",
    "\n",
    "        output = model(data)\n",
    "\n",
    "        test_loss += F.nll_loss(\n",
    "            output, target, reduction=\"sum\"\n",
    "        ).item()  # sum up batch loss\n",
    "        pred = output.data.max(1, keepdim=True)[\n",
    "            1\n",
    "        ]  # get the index of the max log-probability\n",
    "        correct += pred.eq(target.data.view_as(pred)).cpu().sum().item()\n",
    "\n",
    "    test_loss /= len(test_loader.dataset)\n",
    "    accuracy = 100.0 * correct / len(test_loader.dataset)\n",
    "    accuracy_list.append(accuracy)\n",
    "\n",
    "    print(\n",
    "        \"\\nTest set: Average loss: {:.4f}, Accuracy: {}/{} ({:.0f}%)\\n\".format(\n",
    "            test_loss, correct, len(test_loader.dataset), accuracy\n",
    "        )\n",
    "    )"
   ]
  },
  {
   "cell_type": "markdown",
   "metadata": {},
   "source": [
    "#### Train/Test CNN with permutation "
   ]
  },
  {
   "cell_type": "code",
   "execution_count": null,
   "metadata": {},
   "outputs": [],
   "source": [
    "n_hidden = 8  # number of hidden units\n",
    "\n",
    "model_fnn_perm = FC2Layer(input_size, n_hidden, output_size)  # define the model\n",
    "model_fnn_perm.to(device)  # move it to the correct device\n",
    "\n",
    "loss_fn = torch.nn.NLLLoss()  # select the loss according to our problem\n",
    "optimizer = optim.SGD(model_fnn_perm.parameters(), lr=0.01, momentum=0.5)\n",
    "\n",
    "print(f\"Number of parameters: {get_n_params(model_fnn_perm)}\")\n",
    "\n",
    "for epoch in range(0, 1):\n",
    "    train_one_epoch_perm(model_fnn, optimizer, loss_fn)\n",
    "\n",
    "test_perm(model_fnn)"
   ]
  },
  {
   "cell_type": "code",
   "execution_count": null,
   "metadata": {},
   "outputs": [],
   "source": [
    "# Training settings\n",
    "n_features = 6  # number of feature maps\n",
    "\n",
    "model_cnn = CNN(input_size, n_features, output_size)\n",
    "model_cnn.to(device)\n",
    "optimizer = optim.SGD(model_cnn.parameters(), lr=0.01, momentum=0.5)\n",
    "print(f\"Number of parameters: {get_n_params(model_cnn)}\")\n",
    "\n",
    "for epoch in range(0, 1):\n",
    "    train_one_epoch_perm(model_cnn, optimizer, loss_fn)\n",
    "\n",
    "test_perm(model_cnn)"
   ]
  },
  {
   "cell_type": "code",
   "execution_count": null,
   "metadata": {},
   "outputs": [],
   "source": [
    "plt.bar(\n",
    "    (\"NN image\", \"CNN image\", \"CNN scrambled\", \"NN scrambled\"),\n",
    "    accuracy_list[:4],\n",
    "    width=0.4,\n",
    ")\n",
    "plt.ylim((min(accuracy_list[:4]) - 5, 96))\n",
    "plt.ylabel(\"Accuracy [%]\");"
   ]
  },
  {
   "cell_type": "markdown",
   "metadata": {},
   "source": [
    "##### The ConvNet's performance drops when we permute the pixels, but the Fully-Connected Network's performance stays the same. WHY?"
   ]
  },
  {
   "cell_type": "markdown",
   "metadata": {},
   "source": []
  }
 ],
 "metadata": {
  "language_info": {
   "codemirror_mode": {
    "name": "ipython",
    "version": 3
   },
   "file_extension": ".py",
   "mimetype": "text/x-python",
   "name": "python",
   "nbconvert_exporter": "python",
   "pygments_lexer": "ipython3",
   "version": "3.9.6"
  },
  "vscode": {
   "interpreter": {
    "hash": "1a7676564d16bc58d94363a5302f065cad7216a181e20771947af71c951c7aa1"
   }
  }
 },
 "nbformat": 4,
 "nbformat_minor": 2
}
